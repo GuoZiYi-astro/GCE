{
 "cells": [
  {
   "cell_type": "markdown",
   "metadata": {},
   "source": [
    "# First steps with SYGMA"
   ]
  },
  {
   "cell_type": "markdown",
   "metadata": {},
   "source": [
    "调用函数"
   ]
  },
  {
   "cell_type": "code",
   "execution_count": 4,
   "metadata": {},
   "outputs": [],
   "source": [
    "from NuPyCEE import sygma as s\n",
    "import matplotlib.pyplot as plt\n",
    "import numpy as np\n",
    "from scipy.integrate import quad\n",
    "import os\n",
    "import sys"
   ]
  },
  {
   "cell_type": "markdown",
   "metadata": {},
   "source": [
    "## 1. The initial mass function"
   ]
  },
  {
   "cell_type": "markdown",
   "metadata": {},
   "source": [
    "直接计算产出与模拟结果的对比（基于Salpeter IMF，设置恒星质量范围为 [1,30] ，形成的恒星总质量为1e11,每个恒星的产出为0.1 Msun ）"
   ]
  },
  {
   "cell_type": "code",
   "execution_count": 1,
   "metadata": {},
   "outputs": [
    {
     "name": "stdout",
     "output_type": "stream",
     "text": [
      "0.03687728129719034\n"
     ]
    }
   ],
   "source": [
    "k_N=1e11*0.35/(1**(-0.35)-30**(-0.35))\n",
    "N_tot=k_N*(1**(-1.35)-30**(-1.35))/1.35\n",
    "Yield_tot=0.1*N_tot\n",
    "print(Yield_tot/1e11)"
   ]
  },
  {
   "cell_type": "markdown",
   "metadata": {},
   "source": [
    "通过模拟计算上述产出"
   ]
  },
  {
   "cell_type": "code",
   "execution_count": 24,
   "metadata": {},
   "outputs": [
    {
     "name": "stdout",
     "output_type": "stream",
     "text": [
      "SYGMA run in progress..\n",
      "   SYGMA run completed - Run time: 0.02s\n",
      "3687728129.719033\n"
     ]
    }
   ],
   "source": [
    "s1=s.sygma(iolevel=0,mgal=1e11,dt=1e7,imf_type='salpeter',imf_bdys=[1,30],iniZ=0.02,hardsetZ=0.02,\n",
    "           table='yield_tables/agb_and_massive_stars_h1.txt',sn1a_on=False, sn1a_table='yield_tables/sn1a_h1.txt', \n",
    "           iniabu_table='yield_tables/iniabu/iniab_h1.ppn',pop3_table='yield_tables/popIII_h1.txt')\n",
    "Yield_tot_sim=s1.history.ism_iso_yield[-1][0]\n",
    "print(Yield_tot_sim)"
   ]
  },
  {
   "cell_type": "markdown",
   "metadata": {},
   "source": [
    "使用原文件报错：\n",
    "Error-Model(M=12.0,Z=0.02) not found in myposition/NuPyCEE/yield_tables/agb_and_massive_stars_h1.txt\n",
    "Error-Model(M=12.0,Z=0.01) not found in myposition/NuPyCEE/yield_tables/agb_and_massive_stars_h1.txt\n",
    "我找到了这个文件并在其中加入了M=12,Z=0.02和M=12,Z=0.01，（后面表格内容复制了M=7.0的内容，应该需要查询一下正确数值）不再报错，且结果与正确结果只差0.00001.\n",
    "猜测可能是某次更新时不小心删去了这一段。"
   ]
  },
  {
   "cell_type": "code",
   "execution_count": null,
   "metadata": {},
   "outputs": [],
   "source": []
  }
 ],
 "metadata": {
  "kernelspec": {
   "display_name": "Python 3",
   "language": "python",
   "name": "python3"
  },
  "language_info": {
   "codemirror_mode": {
    "name": "ipython",
    "version": 3
   },
   "file_extension": ".py",
   "mimetype": "text/x-python",
   "name": "python",
   "nbconvert_exporter": "python",
   "pygments_lexer": "ipython3",
   "version": "3.8.5"
  }
 },
 "nbformat": 4,
 "nbformat_minor": 4
}
